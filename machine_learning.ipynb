{
 "cells": [
  {
   "cell_type": "code",
   "execution_count": 9,
   "metadata": {},
   "outputs": [
    {
     "name": "stderr",
     "output_type": "stream",
     "text": [
      "d:\\softwares\\anaconda3\\lib\\site-packages\\IPython\\core\\interactiveshell.py:3444: DtypeWarning: Columns (1) have mixed types.Specify dtype option on import or set low_memory=False.\n",
      "  exec(code_obj, self.user_global_ns, self.user_ns)\n"
     ]
    },
    {
     "data": {
      "text/html": [
       "<div>\n",
       "<style scoped>\n",
       "    .dataframe tbody tr th:only-of-type {\n",
       "        vertical-align: middle;\n",
       "    }\n",
       "\n",
       "    .dataframe tbody tr th {\n",
       "        vertical-align: top;\n",
       "    }\n",
       "\n",
       "    .dataframe thead th {\n",
       "        text-align: right;\n",
       "    }\n",
       "</style>\n",
       "<table border=\"1\" class=\"dataframe\">\n",
       "  <thead>\n",
       "    <tr style=\"text-align: right;\">\n",
       "      <th></th>\n",
       "      <th>url</th>\n",
       "      <th>id</th>\n",
       "      <th>Lng</th>\n",
       "      <th>Lat</th>\n",
       "      <th>Cid</th>\n",
       "      <th>DOM</th>\n",
       "      <th>followers</th>\n",
       "      <th>totalPrice</th>\n",
       "      <th>price</th>\n",
       "      <th>square</th>\n",
       "      <th>...</th>\n",
       "      <th>buildingStructure</th>\n",
       "      <th>ladderRatio</th>\n",
       "      <th>elevator</th>\n",
       "      <th>fiveYearsProperty</th>\n",
       "      <th>subway</th>\n",
       "      <th>district</th>\n",
       "      <th>communityAverage</th>\n",
       "      <th>tradeyear</th>\n",
       "      <th>trademon</th>\n",
       "      <th>tradeday</th>\n",
       "    </tr>\n",
       "  </thead>\n",
       "  <tbody>\n",
       "    <tr>\n",
       "      <th>0</th>\n",
       "      <td>https://bj.lianjia.com/chengjiao/101084782030....</td>\n",
       "      <td>101084782030</td>\n",
       "      <td>116.475489</td>\n",
       "      <td>40.019520</td>\n",
       "      <td>1111027376244</td>\n",
       "      <td>1464.0</td>\n",
       "      <td>106</td>\n",
       "      <td>415.0</td>\n",
       "      <td>31680</td>\n",
       "      <td>131.00</td>\n",
       "      <td>...</td>\n",
       "      <td>6</td>\n",
       "      <td>0.217</td>\n",
       "      <td>1.0</td>\n",
       "      <td>0.0</td>\n",
       "      <td>1.0</td>\n",
       "      <td>7</td>\n",
       "      <td>56021.0</td>\n",
       "      <td>2016</td>\n",
       "      <td>8</td>\n",
       "      <td>9</td>\n",
       "    </tr>\n",
       "    <tr>\n",
       "      <th>1</th>\n",
       "      <td>https://bj.lianjia.com/chengjiao/101086012217....</td>\n",
       "      <td>101086012217</td>\n",
       "      <td>116.453917</td>\n",
       "      <td>39.881534</td>\n",
       "      <td>1111027381879</td>\n",
       "      <td>903.0</td>\n",
       "      <td>126</td>\n",
       "      <td>575.0</td>\n",
       "      <td>43436</td>\n",
       "      <td>132.38</td>\n",
       "      <td>...</td>\n",
       "      <td>6</td>\n",
       "      <td>0.667</td>\n",
       "      <td>1.0</td>\n",
       "      <td>1.0</td>\n",
       "      <td>0.0</td>\n",
       "      <td>7</td>\n",
       "      <td>71539.0</td>\n",
       "      <td>2016</td>\n",
       "      <td>7</td>\n",
       "      <td>28</td>\n",
       "    </tr>\n",
       "    <tr>\n",
       "      <th>2</th>\n",
       "      <td>https://bj.lianjia.com/chengjiao/101086041636....</td>\n",
       "      <td>101086041636</td>\n",
       "      <td>116.561978</td>\n",
       "      <td>39.877145</td>\n",
       "      <td>1111040862969</td>\n",
       "      <td>1271.0</td>\n",
       "      <td>48</td>\n",
       "      <td>1030.0</td>\n",
       "      <td>52021</td>\n",
       "      <td>198.00</td>\n",
       "      <td>...</td>\n",
       "      <td>6</td>\n",
       "      <td>0.500</td>\n",
       "      <td>1.0</td>\n",
       "      <td>0.0</td>\n",
       "      <td>0.0</td>\n",
       "      <td>7</td>\n",
       "      <td>48160.0</td>\n",
       "      <td>2016</td>\n",
       "      <td>12</td>\n",
       "      <td>11</td>\n",
       "    </tr>\n",
       "    <tr>\n",
       "      <th>3</th>\n",
       "      <td>https://bj.lianjia.com/chengjiao/101086406841....</td>\n",
       "      <td>101086406841</td>\n",
       "      <td>116.438010</td>\n",
       "      <td>40.076114</td>\n",
       "      <td>1111043185817</td>\n",
       "      <td>965.0</td>\n",
       "      <td>138</td>\n",
       "      <td>297.5</td>\n",
       "      <td>22202</td>\n",
       "      <td>134.00</td>\n",
       "      <td>...</td>\n",
       "      <td>6</td>\n",
       "      <td>0.273</td>\n",
       "      <td>1.0</td>\n",
       "      <td>0.0</td>\n",
       "      <td>0.0</td>\n",
       "      <td>6</td>\n",
       "      <td>51238.0</td>\n",
       "      <td>2016</td>\n",
       "      <td>9</td>\n",
       "      <td>30</td>\n",
       "    </tr>\n",
       "    <tr>\n",
       "      <th>4</th>\n",
       "      <td>https://bj.lianjia.com/chengjiao/101086920653....</td>\n",
       "      <td>101086920653</td>\n",
       "      <td>116.428392</td>\n",
       "      <td>39.886229</td>\n",
       "      <td>1111027381174</td>\n",
       "      <td>927.0</td>\n",
       "      <td>286</td>\n",
       "      <td>392.0</td>\n",
       "      <td>48396</td>\n",
       "      <td>81.00</td>\n",
       "      <td>...</td>\n",
       "      <td>2</td>\n",
       "      <td>0.333</td>\n",
       "      <td>0.0</td>\n",
       "      <td>1.0</td>\n",
       "      <td>1.0</td>\n",
       "      <td>1</td>\n",
       "      <td>62588.0</td>\n",
       "      <td>2016</td>\n",
       "      <td>8</td>\n",
       "      <td>28</td>\n",
       "    </tr>\n",
       "  </tbody>\n",
       "</table>\n",
       "<p>5 rows × 28 columns</p>\n",
       "</div>"
      ],
      "text/plain": [
       "                                                 url            id  \\\n",
       "0  https://bj.lianjia.com/chengjiao/101084782030....  101084782030   \n",
       "1  https://bj.lianjia.com/chengjiao/101086012217....  101086012217   \n",
       "2  https://bj.lianjia.com/chengjiao/101086041636....  101086041636   \n",
       "3  https://bj.lianjia.com/chengjiao/101086406841....  101086406841   \n",
       "4  https://bj.lianjia.com/chengjiao/101086920653....  101086920653   \n",
       "\n",
       "          Lng        Lat            Cid     DOM  followers  totalPrice  price  \\\n",
       "0  116.475489  40.019520  1111027376244  1464.0        106       415.0  31680   \n",
       "1  116.453917  39.881534  1111027381879   903.0        126       575.0  43436   \n",
       "2  116.561978  39.877145  1111040862969  1271.0         48      1030.0  52021   \n",
       "3  116.438010  40.076114  1111043185817   965.0        138       297.5  22202   \n",
       "4  116.428392  39.886229  1111027381174   927.0        286       392.0  48396   \n",
       "\n",
       "   square  ...  buildingStructure  ladderRatio  elevator  fiveYearsProperty  \\\n",
       "0  131.00  ...                  6        0.217       1.0                0.0   \n",
       "1  132.38  ...                  6        0.667       1.0                1.0   \n",
       "2  198.00  ...                  6        0.500       1.0                0.0   \n",
       "3  134.00  ...                  6        0.273       1.0                0.0   \n",
       "4   81.00  ...                  2        0.333       0.0                1.0   \n",
       "\n",
       "   subway  district communityAverage  tradeyear  trademon  tradeday  \n",
       "0     1.0         7          56021.0       2016         8         9  \n",
       "1     0.0         7          71539.0       2016         7        28  \n",
       "2     0.0         7          48160.0       2016        12        11  \n",
       "3     0.0         6          51238.0       2016         9        30  \n",
       "4     1.0         1          62588.0       2016         8        28  \n",
       "\n",
       "[5 rows x 28 columns]"
      ]
     },
     "execution_count": 9,
     "metadata": {},
     "output_type": "execute_result"
    }
   ],
   "source": [
    "import pandas as pd\n",
    "import numpy as np\n",
    "data = pd.read_csv(\"data_pre3.csv\", encoding=\"gbk\")#\n",
    "data.head()"
   ]
  },
  {
   "cell_type": "code",
   "execution_count": 10,
   "metadata": {},
   "outputs": [
    {
     "name": "stdout",
     "output_type": "stream",
     "text": [
      "url : object\n",
      "id : object\n",
      "Lng : float64\n",
      "Lat : float64\n",
      "Cid : int64\n",
      "DOM : float64\n",
      "followers : int64\n",
      "totalPrice : float64\n",
      "price : int64\n",
      "square : float64\n",
      "livingRoom : float64\n",
      "drawingRoom : float64\n",
      "kitchen : int64\n",
      "bathRoom : float64\n",
      "floor : float64\n",
      "buildingType : float64\n",
      "constructionTime : object\n",
      "renovationCondition : int64\n",
      "buildingStructure : int64\n",
      "ladderRatio : float64\n",
      "elevator : float64\n",
      "fiveYearsProperty : float64\n",
      "subway : float64\n",
      "district : int64\n",
      "communityAverage : float64\n",
      "tradeyear : int64\n",
      "trademon : int64\n",
      "tradeday : int64\n"
     ]
    }
   ],
   "source": [
    "data_new=data.copy()\n",
    "data_new[\"livingRoom\"] = data_new[\"livingRoom\"].apply(pd.to_numeric, errors='coerce')\n",
    "data_new[\"drawingRoom\"] = data_new[\"drawingRoom\"].apply(pd.to_numeric, errors='coerce')\n",
    "data_new[\"bathRoom\"] = data_new[\"bathRoom\"].apply(pd.to_numeric, errors='coerce')\n",
    "for col in data_new.columns:\n",
    "    print(col+' : '+ str(data_new[col].dtype))"
   ]
  },
  {
   "cell_type": "code",
   "execution_count": 11,
   "metadata": {},
   "outputs": [],
   "source": [
    "import sklearn.model_selection as ms\n",
    "from sklearn.ensemble import RandomForestRegressor\n",
    "from sklearn.linear_model import LinearRegression\n",
    "from sklearn.tree import DecisionTreeRegressor\n",
    "from sklearn.svm import SVR\n",
    "from xgboost import XGBRegressor as XGBR\n",
    "from sklearn.ensemble import GradientBoostingRegressor"
   ]
  },
  {
   "cell_type": "code",
   "execution_count": 12,
   "metadata": {},
   "outputs": [],
   "source": [
    "rf_params = [{\n",
    "    'max_depth': [30], # 5 10 15 20\n",
    "    'n_estimators': [120, 130], # 10 30 50 150\n",
    "    'max_features': [6, 8], #1 2 4 \n",
    "}]   \n",
    "\n",
    "xgb_params = [{\n",
    "    'max_depth': [9],  # 2-15 \n",
    "    'min_child_weight':[2],\n",
    "    'booster':['gbtree', 'dart'],\n",
    "    'eta':[0.2, 0.3, 0.4]    \n",
    "}] \n",
    "\n",
    "svr_params = [\n",
    "#     {'kernel': ['linear'], 'C': [1, 10, 100, 1000]},   \n",
    "#     {'kernel': ['poly'], 'C': [1], 'degree': [2, 3]},\n",
    "#     {'kernel': ['rbf'], 'C': [1, 10, 100, 1000], 'gamma': [1, 0.1, 0.01, 0.001]}\n",
    "    {'kernel': ['sigmoid'], 'C': [1, 10, 100, 1000]},   \n",
    "    {'kernel': ['precomputed'], 'C': [1, 10, 100, 1000]},\n",
    "]\n",
    "\n",
    "dt_params =[{\n",
    "    'max_depth':[10, 15, 20],  # 30, 40\n",
    "    'splitter':['best'],  # 'random'\n",
    "}]\n",
    "    \n",
    "gbr_params = [{\n",
    "    'n_estimators': [500,100],\n",
    "    'max_depth': [6,],\n",
    "    'min_samples_split': [5,],\n",
    "    'learning_rate': [0.01,],\n",
    "    'loss': ['ls'],\n",
    "}]\n",
    "          \n",
    "models = {\n",
    "    'DT':ms.GridSearchCV(DecisionTreeRegressor(random_state=1), dt_params, cv=3),\n",
    "    'RF': ms.GridSearchCV(RandomForestRegressor(random_state=1), rf_params, cv=3),\n",
    "    'GBR': ms.GridSearchCV(GradientBoostingRegressor(random_state=1), gbr_params, cv=3),\n",
    "    'XGBR': ms.GridSearchCV(XGBR(),xgb_params, cv=3),\n",
    "#     'SVR':ms.GridSearchCV(SVR(),svr_params, cv=3),\n",
    "}"
   ]
  },
  {
   "cell_type": "code",
   "execution_count": 13,
   "metadata": {},
   "outputs": [],
   "source": [
    "import pickle\n",
    "def fit_models(x_train,y_train):\n",
    "    mfit = {model: models[model].fit(x_train, y_train) for model in models.keys()}\n",
    "    b_params = {model: models[model].best_params_ for model in models.keys()}\n",
    "    print(b_params)\n",
    "    b_score = {model: models[model].best_score_ for model in models.keys()}\n",
    "    print(b_score)\n"
   ]
  },
  {
   "cell_type": "code",
   "execution_count": 14,
   "metadata": {},
   "outputs": [],
   "source": [
    "answer = pd.DataFrame()\n",
    "def derive_positions(x_test):\n",
    "    for model in models.keys():\n",
    "        answer['pre'+model] = models[model].predict(x_test)"
   ]
  },
  {
   "cell_type": "code",
   "execution_count": 15,
   "metadata": {},
   "outputs": [
    {
     "name": "stderr",
     "output_type": "stream",
     "text": [
      "C:\\Users\\hy109\\AppData\\Local\\Temp/ipykernel_11924/1590087922.py:15: SettingWithCopyWarning: \n",
      "A value is trying to be set on a copy of a slice from a DataFrame.\n",
      "Try using .loc[row_indexer,col_indexer] = value instead\n",
      "\n",
      "See the caveats in the documentation: https://pandas.pydata.org/pandas-docs/stable/user_guide/indexing.html#returning-a-view-versus-a-copy\n",
      "  x[nkey]=x[nkey].div(x[nkey].max())\n"
     ]
    },
    {
     "data": {
      "text/plain": [
       "((318851, 14), (318851,))"
      ]
     },
     "execution_count": 15,
     "metadata": {},
     "output_type": "execute_result"
    }
   ],
   "source": [
    "data_new.drop([\"url\", \"id\", \"price\",\"constructionTime\"],axis=1, inplace=True)\n",
    "data_new.isnull().sum()\n",
    "data_new.shape\n",
    "data_new=data_new.div(data_new.max())\n",
    "data.drop([\"url\", \"id\", \"price\",\"constructionTime\"],axis=1, inplace=True)\n",
    "\n",
    "process_col=[\"DOM\", \"followers\", \"square\", \"livingRoom\", \"drawingRoom\", \"kitchen\", \"bathRoom\", \"floor\", \"renovationCondition\", \"buildingStructure\", \"elevator\", \"subway\", \"district\", \"tradeyear\"]\n",
    "#data=data[process_col]\n",
    "data = data.sample(frac=1)\n",
    "#data=data.div(data.max())\n",
    "\n",
    "#x = data.copy()\n",
    "x =data[process_col]\n",
    "for nkey in process_col:\n",
    "    x[nkey]=x[nkey].div(x[nkey].max())\n",
    "#x.drop(['totalPrice'],axis=1, inplace=True)\n",
    "\n",
    "y = data['totalPrice']\n",
    "scale=y.max()\n",
    "y=y.div(y.max())\n",
    "x.shape,y.shape"
   ]
  },
  {
   "cell_type": "code",
   "execution_count": 16,
   "metadata": {},
   "outputs": [
    {
     "name": "stdout",
     "output_type": "stream",
     "text": [
      "{'DT': {'max_depth': 10, 'splitter': 'best'}, 'RF': {'max_depth': 30, 'max_features': 8, 'n_estimators': 130}, 'GBR': {'learning_rate': 0.01, 'loss': 'ls', 'max_depth': 6, 'min_samples_split': 5, 'n_estimators': 500}, 'XGBR': {'booster': 'dart', 'eta': 0.4, 'max_depth': 9, 'min_child_weight': 2}}\n",
      "{'DT': 0.7504141077855374, 'RF': 0.8214850974851107, 'GBR': 0.8027784773140745, 'XGBR': 0.817130295486308}\n"
     ]
    }
   ],
   "source": [
    "from sklearn.model_selection import train_test_split\n",
    "x_train,x_test, y_train, y_test = train_test_split(x, y, test_size=0.2, random_state=1)\n",
    "#fit_models(x_train,y_train)\n",
    "# f = open('rfc.pickle','rb')\n",
    "# models = pickle.load(f)\n",
    "# f.close()\n",
    "f = open('rfc.pickle','wb')\n",
    "pickle.dump(models,f)\n",
    "f.close()\n",
    "derive_positions(x_test)\n"
   ]
  },
  {
   "cell_type": "code",
   "execution_count": null,
   "metadata": {},
   "outputs": [],
   "source": []
  },
  {
   "cell_type": "code",
   "execution_count": 17,
   "metadata": {},
   "outputs": [
    {
     "name": "stdout",
     "output_type": "stream",
     "text": [
      "MSE:4.129616363325893e-05MAE:0.0037318453587469173RMSE:0.006426209118388456R2:0.744277510761125\n",
      "MSE:2.7302455834059305e-05MAE:0.0029641422129713774RMSE:0.0052251751964943055R2:0.8309321894831637\n",
      "MSE:3.151691077731159e-05MAE:0.0034059204913864357RMSE:0.005613992409801744R2:0.804834585878998\n",
      "MSE:2.6258826171377606e-05MAE:0.003036953947225098RMSE:0.005124336656717395R2:0.8373947649793909\n"
     ]
    },
    {
     "data": {
      "text/html": [
       "<div>\n",
       "<style scoped>\n",
       "    .dataframe tbody tr th:only-of-type {\n",
       "        vertical-align: middle;\n",
       "    }\n",
       "\n",
       "    .dataframe tbody tr th {\n",
       "        vertical-align: top;\n",
       "    }\n",
       "\n",
       "    .dataframe thead th {\n",
       "        text-align: right;\n",
       "    }\n",
       "</style>\n",
       "<table border=\"1\" class=\"dataframe\">\n",
       "  <thead>\n",
       "    <tr style=\"text-align: right;\">\n",
       "      <th></th>\n",
       "      <th>model</th>\n",
       "      <th>MSE</th>\n",
       "      <th>MAE</th>\n",
       "      <th>RMSE</th>\n",
       "      <th>R2</th>\n",
       "    </tr>\n",
       "  </thead>\n",
       "  <tbody>\n",
       "    <tr>\n",
       "      <th>0</th>\n",
       "      <td>DT</td>\n",
       "      <td>0.000041</td>\n",
       "      <td>0.003732</td>\n",
       "      <td>0.006426</td>\n",
       "      <td>0.744278</td>\n",
       "    </tr>\n",
       "    <tr>\n",
       "      <th>1</th>\n",
       "      <td>RF</td>\n",
       "      <td>0.000027</td>\n",
       "      <td>0.002964</td>\n",
       "      <td>0.005225</td>\n",
       "      <td>0.830932</td>\n",
       "    </tr>\n",
       "    <tr>\n",
       "      <th>2</th>\n",
       "      <td>GBR</td>\n",
       "      <td>0.000032</td>\n",
       "      <td>0.003406</td>\n",
       "      <td>0.005614</td>\n",
       "      <td>0.804835</td>\n",
       "    </tr>\n",
       "    <tr>\n",
       "      <th>3</th>\n",
       "      <td>XGBR</td>\n",
       "      <td>0.000026</td>\n",
       "      <td>0.003037</td>\n",
       "      <td>0.005124</td>\n",
       "      <td>0.837395</td>\n",
       "    </tr>\n",
       "  </tbody>\n",
       "</table>\n",
       "</div>"
      ],
      "text/plain": [
       "  model       MSE       MAE      RMSE        R2\n",
       "0    DT  0.000041  0.003732  0.006426  0.744278\n",
       "1    RF  0.000027  0.002964  0.005225  0.830932\n",
       "2   GBR  0.000032  0.003406  0.005614  0.804835\n",
       "3  XGBR  0.000026  0.003037  0.005124  0.837395"
      ]
     },
     "execution_count": 17,
     "metadata": {},
     "output_type": "execute_result"
    }
   ],
   "source": [
    "from sklearn.metrics import mean_squared_error #MSE\n",
    "from sklearn.metrics import mean_absolute_error #MAE\n",
    "from sklearn.metrics import r2_score#R 2\n",
    "scores = pd.DataFrame({'Model': [], 'RMSE': [], 'R2': []})\n",
    "effect = pd.DataFrame(columns = ['model','MSE','MAE','RMSE','R2'])\n",
    "i = 0\n",
    "for k,v in models.items():\n",
    "    y_predict = answer['pre'+k]\n",
    "    MSE = mean_squared_error(y_test,y_predict)\n",
    "    MAE = mean_absolute_error(y_test,y_predict)\n",
    "    RMSE = np.sqrt(mean_squared_error(y_test,y_predict))  \n",
    "    R2 = r2_score(y_test,y_predict)\n",
    "    effect.loc[i] = [k,MSE,MAE,RMSE,R2]\n",
    "    i += 1\n",
    "    print(f\"MSE:{MSE}MAE:{MAE}RMSE:{RMSE}R2:{R2}\")\n",
    "effect"
   ]
  },
  {
   "cell_type": "code",
   "execution_count": 18,
   "metadata": {},
   "outputs": [
    {
     "data": {
      "image/png": "[encoded data removed]",
      "text/plain": [
       "<Figure size 432x288 with 1 Axes>"
      ]
     },
     "metadata": {
      "needs_background": "light"
     },
     "output_type": "display_data"
    }
   ],
   "source": [
    "import matplotlib.pyplot as plt\n",
    "%matplotlib inline\n",
    "#effect.set_index([\"model\"], inplace=True)\n",
    "ax = effect['MSE'].plot(kind=\"bar\")\n",
    "ax.set_title('MSE', fontsize=15)\n",
    "plt.show()\n"
   ]
  },
  {
   "cell_type": "code",
   "execution_count": 19,
   "metadata": {},
   "outputs": [
    {
     "data": {
      "image/png": "[encoded data removed]",
      "text/plain": [
       "<Figure size 432x288 with 1 Axes>"
      ]
     },
     "metadata": {
      "needs_background": "light"
     },
     "output_type": "display_data"
    }
   ],
   "source": [
    "ax = effect['MAE'].plot(kind=\"bar\")\n",
    "ax.set_title('MAE', fontsize=15)\n",
    "plt.show()"
   ]
  },
  {
   "cell_type": "code",
   "execution_count": 20,
   "metadata": {},
   "outputs": [
    {
     "data": {
      "image/png": "[encoded data removed]",
      "text/plain": [
       "<Figure size 432x288 with 1 Axes>"
      ]
     },
     "metadata": {
      "needs_background": "light"
     },
     "output_type": "display_data"
    }
   ],
   "source": [
    "ax = effect['RMSE'].plot(kind=\"bar\")\n",
    "ax.set_title('RMSE', fontsize=15)\n",
    "plt.show()"
   ]
  },
  {
   "cell_type": "code",
   "execution_count": 21,
   "metadata": {},
   "outputs": [
    {
     "data": {
      "image/png": "[encoded data removed]",
      "text/plain": [
       "<Figure size 432x288 with 1 Axes>"
      ]
     },
     "metadata": {
      "needs_background": "light"
     },
     "output_type": "display_data"
    }
   ],
   "source": [
    "ax = effect['R2'].plot(kind=\"bar\")\n",
    "ax.set_title('R2', fontsize=15)\n",
    "plt.show()"
   ]
  }
 ],
 "metadata": {
  "kernelspec": {
   "display_name": "base",
   "language": "python",
   "name": "python3"
  },
  "language_info": {
   "codemirror_mode": {
    "name": "ipython",
    "version": 3
   },
   "file_extension": ".py",
   "mimetype": "text/x-python",
   "name": "python",
   "nbconvert_exporter": "python",
   "pygments_lexer": "ipython3",
   "version": "3.9.7"
  },
  "orig_nbformat": 4
 },
 "nbformat": 4,
 "nbformat_minor": 2
}
